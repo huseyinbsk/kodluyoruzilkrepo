{
 "cells": [
  {
   "cell_type": "markdown",
   "id": "498c7e13",
   "metadata": {},
   "source": [
    "## project 1"
   ]
  },
  {
   "cell_type": "code",
   "execution_count": 59,
   "id": "009defcb",
   "metadata": {},
   "outputs": [],
   "source": [
    "list1 = [ [1, 2, 3, 4], [\"Ten\", \"Twenty\", \"Thirty\"], [1.1,  1.1, 1, 20, 32]]"
   ]
  },
  {
   "cell_type": "code",
   "execution_count": 60,
   "id": "980932d3",
   "metadata": {},
   "outputs": [],
   "source": [
    "def flatten_list(_2d_list):\n",
    "    flat_list = []\n",
    "    for element in _2d_list:\n",
    "        if type(element) is list:\n",
    "            for item in element:\n",
    "                flat_list.append(item)\n",
    "        else:\n",
    "            flat_list.append(element)\n",
    "    return flat_list"
   ]
  },
  {
   "cell_type": "code",
   "execution_count": 61,
   "id": "cf43819c",
   "metadata": {},
   "outputs": [
    {
     "data": {
      "text/plain": [
       "[1, 2, 3, 4, 'Ten', 'Twenty', 'Thirty', 1.1, 1.1, 1, 20, 32]"
      ]
     },
     "execution_count": 61,
     "metadata": {},
     "output_type": "execute_result"
    }
   ],
   "source": [
    "flatten_list(list1)"
   ]
  },
  {
   "cell_type": "markdown",
   "id": "04c7b2ea",
   "metadata": {},
   "source": [
    "## project 2"
   ]
  },
  {
   "cell_type": "code",
   "execution_count": 62,
   "id": "4e52192b",
   "metadata": {},
   "outputs": [],
   "source": [
    "a = [[1, 2], [3, 4], [5, 6, 7]]"
   ]
  },
  {
   "cell_type": "code",
   "execution_count": 63,
   "id": "c00969bd",
   "metadata": {},
   "outputs": [
    {
     "data": {
      "text/plain": [
       "[[1, 2], [3, 4], [5, 6, 7]]"
      ]
     },
     "execution_count": 63,
     "metadata": {},
     "output_type": "execute_result"
    }
   ],
   "source": [
    "a"
   ]
  },
  {
   "cell_type": "code",
   "execution_count": 64,
   "id": "55ed4bfa",
   "metadata": {},
   "outputs": [],
   "source": [
    "def revfunc(b):\n",
    "    b.reverse()\n",
    "    b[0].reverse()\n",
    "    b[1].reverse()\n",
    "    b[2].reverse()\n",
    "    return b"
   ]
  },
  {
   "cell_type": "code",
   "execution_count": 65,
   "id": "bae459e2",
   "metadata": {},
   "outputs": [
    {
     "data": {
      "text/plain": [
       "[[7, 6, 5], [4, 3], [2, 1]]"
      ]
     },
     "execution_count": 65,
     "metadata": {},
     "output_type": "execute_result"
    }
   ],
   "source": [
    "revfunc(a)"
   ]
  },
  {
   "cell_type": "code",
   "execution_count": null,
   "id": "f858e249",
   "metadata": {},
   "outputs": [],
   "source": []
  }
 ],
 "metadata": {
  "kernelspec": {
   "display_name": "Python 3",
   "language": "python",
   "name": "python3"
  },
  "language_info": {
   "codemirror_mode": {
    "name": "ipython",
    "version": 3
   },
   "file_extension": ".py",
   "mimetype": "text/x-python",
   "name": "python",
   "nbconvert_exporter": "python",
   "pygments_lexer": "ipython3",
   "version": "3.8.8"
  }
 },
 "nbformat": 4,
 "nbformat_minor": 5
}
